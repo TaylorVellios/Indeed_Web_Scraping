{
 "cells": [
  {
   "cell_type": "markdown",
   "id": "d82e2314",
   "metadata": {},
   "source": [
    "## Ensure you have a Google Developer account and a g_config.py file in the same directory as this file with your API key set to a variable named g_key"
   ]
  },
  {
   "cell_type": "code",
   "execution_count": null,
   "id": "ad81b047",
   "metadata": {},
   "outputs": [],
   "source": [
    "import pandas as pd\n",
    "import gmaps\n",
    "from g_config import g_key\n",
    "gmaps.configure(api_key = g_key)"
   ]
  },
  {
   "cell_type": "markdown",
   "id": "cf832973",
   "metadata": {},
   "source": [
    "# ENTER THE NAME OF YOUR RECENTLY CREATED .CSV FILE BELOW.\n",
    "JobData_WebScraper.py saved it to a new folder named Job_Data\n"
   ]
  },
  {
   "cell_type": "code",
   "execution_count": null,
   "id": "a7ef3d84",
   "metadata": {},
   "outputs": [],
   "source": [
    "#ENTER THE NAME OF YOUR RECENTLY CREATED .CSV FILE HERE: JUST THE FILE NAME, DO NOT INCLUDE FOLDER\n",
    "file_name = 'Job_Data/'\n"
   ]
  },
  {
   "cell_type": "code",
   "execution_count": null,
   "id": "ab6b424c",
   "metadata": {},
   "outputs": [],
   "source": [
    "job_data = pd.read_csv(f'{file_name}')\n",
    "job_data = job_data.dropna()\n",
    "job_data.head()"
   ]
  },
  {
   "cell_type": "code",
   "execution_count": null,
   "id": "2d37418e",
   "metadata": {},
   "outputs": [],
   "source": [
    "print(f\"Indeed Job Postings: {(job_data['Job Board']=='Indeed.com').sum()}\")\n",
    "print(f\"LinkedIn Job Postings: {(job_data['Job Board']=='LinkedIn.com').sum()}\")\n"
   ]
  },
  {
   "cell_type": "code",
   "execution_count": null,
   "id": "00a9b5e6",
   "metadata": {},
   "outputs": [],
   "source": [
    "mapping = gmaps.figure(center=(38.0,-95.0), zoom_level=4.0)\n",
    "\n",
    "heat = gmaps.heatmap_layer(job_data[['Lat','Lng']],\n",
    "                          point_radius=11.0, max_intensity=1.0)\n",
    "\n",
    "\n",
    "heat.gradient = [\n",
    "    'black',\n",
    "    'white',\n",
    "    'teal'\n",
    "]\n",
    "mapping.add_layer(heat)\n",
    "\n",
    "\n",
    "mapping"
   ]
  },
  {
   "cell_type": "code",
   "execution_count": null,
   "id": "401940e4",
   "metadata": {},
   "outputs": [],
   "source": []
  }
 ],
 "metadata": {
  "kernelspec": {
   "display_name": "PythonData",
   "language": "python",
   "name": "pythondata"
  },
  "language_info": {
   "codemirror_mode": {
    "name": "ipython",
    "version": 3
   },
   "file_extension": ".py",
   "mimetype": "text/x-python",
   "name": "python",
   "nbconvert_exporter": "python",
   "pygments_lexer": "ipython3",
   "version": "3.9.2"
  }
 },
 "nbformat": 4,
 "nbformat_minor": 5
}
