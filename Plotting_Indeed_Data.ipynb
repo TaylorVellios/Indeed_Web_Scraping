{
 "cells": [
  {
   "cell_type": "code",
   "execution_count": null,
   "id": "ad81b047",
   "metadata": {},
   "outputs": [],
   "source": [
    "import pandas as pd\n",
    "import gmaps\n",
    "from g_config import g_key\n",
    "\n",
    "gmaps.configure(api_key = g_key)"
   ]
  },
  {
   "cell_type": "code",
   "execution_count": null,
   "id": "ab6b424c",
   "metadata": {},
   "outputs": [],
   "source": [
    "#ENTER THE NAME OF YOUR RECENTLY CREATED .CSV FILE HERE: JUST THE FILE NAME, DO NOT INCLUDE FOLDER\n",
    "file_name = ''\n",
    "\n",
    "\n",
    "\n",
    "\n",
    "job_data = pd.read_csv(f'Indeed_Data/{file_name}')\n",
    "job_data = job_data.dropna()\n",
    "job_data"
   ]
  },
  {
   "cell_type": "code",
   "execution_count": null,
   "id": "00a9b5e6",
   "metadata": {},
   "outputs": [],
   "source": [
    "mapping = gmaps.figure(center=(38.0,-95.0), zoom_level=4.0)\n",
    "heat = gmaps.heatmap_layer(job_data[['Lat','Lng']], weights=[float(i) for i in job_data['CityCount']],\n",
    "                          point_radius=7.0, max_intensity=1.0)\n",
    "heat.gradient = [\n",
    "    'black',\n",
    "    'white',\n",
    "    'teal'\n",
    "]\n",
    "mapping.add_layer(heat)\n",
    "\n",
    "mapping"
   ]
  },
  {
   "cell_type": "code",
   "execution_count": null,
   "id": "401940e4",
   "metadata": {},
   "outputs": [],
   "source": []
  }
 ],
 "metadata": {
  "kernelspec": {
   "display_name": "PythonData",
   "language": "python",
   "name": "pythondata"
  },
  "language_info": {
   "codemirror_mode": {
    "name": "ipython",
    "version": 3
   },
   "file_extension": ".py",
   "mimetype": "text/x-python",
   "name": "python",
   "nbconvert_exporter": "python",
   "pygments_lexer": "ipython3",
   "version": "3.9.2"
  }
 },
 "nbformat": 4,
 "nbformat_minor": 5
}
